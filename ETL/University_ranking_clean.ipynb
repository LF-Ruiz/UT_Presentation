{
 "cells": [
  {
   "cell_type": "code",
   "execution_count": 1,
   "metadata": {},
   "outputs": [],
   "source": [
    "import pandas as pd\n",
    "import numpy as np\n",
    "\n",
    "from sqlalchemy import create_engine\n",
    "import psycopg2\n",
    "import sqlalchemy\n",
    "from sqlalchemy.ext.automap import automap_base\n",
    "from sqlalchemy.orm import Session\n",
    "from sqlalchemy import create_engine, func, inspect"
   ]
  },
  {
   "cell_type": "code",
   "execution_count": 11,
   "metadata": {},
   "outputs": [
    {
     "ename": "ImportError",
     "evalue": "cannot import name 'password' from 'secrets' (C:\\Users\\luisf\\anaconda3\\lib\\secrets.py)",
     "output_type": "error",
     "traceback": [
      "\u001b[1;31m---------------------------------------------------------------------------\u001b[0m",
      "\u001b[1;31mImportError\u001b[0m                               Traceback (most recent call last)",
      "\u001b[1;32m<ipython-input-11-a584664351b2>\u001b[0m in \u001b[0;36m<module>\u001b[1;34m\u001b[0m\n\u001b[1;32m----> 1\u001b[1;33m \u001b[1;32mfrom\u001b[0m \u001b[0msecrets\u001b[0m \u001b[1;32mimport\u001b[0m \u001b[0mpassword\u001b[0m\u001b[1;33m\u001b[0m\u001b[1;33m\u001b[0m\u001b[0m\n\u001b[0m",
      "\u001b[1;31mImportError\u001b[0m: cannot import name 'password' from 'secrets' (C:\\Users\\luisf\\anaconda3\\lib\\secrets.py)"
     ]
    }
   ],
   "source": [
    "from secrets import password"
   ]
  },
  {
   "cell_type": "code",
   "execution_count": 2,
   "metadata": {},
   "outputs": [],
   "source": [
    "url2020 = 'http://archive.shanghairanking.com/ARWU2020.html'\n",
    "url2019 = 'http://archive.shanghairanking.com/ARWU2019.html'\n",
    "url2018 = 'http://archive.shanghairanking.com/ARWU2018.html'\n",
    "url2017 = 'http://archive.shanghairanking.com/ARWU2017.html'\n",
    "url2016 = 'http://archive.shanghairanking.com/ARWU2016.html'"
   ]
  },
  {
   "cell_type": "code",
   "execution_count": 3,
   "metadata": {},
   "outputs": [],
   "source": [
    "rank2020 = pd.read_html(url2020)\n",
    "rank2019 = pd.read_html(url2019)\n",
    "rank2018 = pd.read_html(url2018)\n",
    "rank2017 = pd.read_html(url2017)\n",
    "rank2016 = pd.read_html(url2016)"
   ]
  },
  {
   "cell_type": "code",
   "execution_count": 4,
   "metadata": {},
   "outputs": [],
   "source": [
    "rank2020 = rank2020[0]\n",
    "rank2019 = rank2019[0]\n",
    "rank2018 = rank2018[0]\n",
    "rank2017 = rank2017[0]\n",
    "rank2016 = rank2016[0]"
   ]
  },
  {
   "cell_type": "code",
   "execution_count": 5,
   "metadata": {},
   "outputs": [],
   "source": [
    "rank2020['year'] = 2020\n",
    "rank2019['year'] = 2019\n",
    "rank2018['year'] = 2018\n",
    "rank2017['year'] = 2017\n",
    "rank2016['year'] = 2016"
   ]
  },
  {
   "cell_type": "code",
   "execution_count": 6,
   "metadata": {},
   "outputs": [
    {
     "data": {
      "text/html": [
       "<div>\n",
       "<style scoped>\n",
       "    .dataframe tbody tr th:only-of-type {\n",
       "        vertical-align: middle;\n",
       "    }\n",
       "\n",
       "    .dataframe tbody tr th {\n",
       "        vertical-align: top;\n",
       "    }\n",
       "\n",
       "    .dataframe thead th {\n",
       "        text-align: right;\n",
       "    }\n",
       "</style>\n",
       "<table border=\"1\" class=\"dataframe\">\n",
       "  <thead>\n",
       "    <tr style=\"text-align: right;\">\n",
       "      <th></th>\n",
       "      <th>Institution*</th>\n",
       "      <th>World Rank</th>\n",
       "      <th>National/Regional Rank</th>\n",
       "      <th>year</th>\n",
       "    </tr>\n",
       "  </thead>\n",
       "  <tbody>\n",
       "    <tr>\n",
       "      <th>0</th>\n",
       "      <td>Harvard University</td>\n",
       "      <td>1</td>\n",
       "      <td>1</td>\n",
       "      <td>2020</td>\n",
       "    </tr>\n",
       "    <tr>\n",
       "      <th>1</th>\n",
       "      <td>Stanford University</td>\n",
       "      <td>2</td>\n",
       "      <td>2</td>\n",
       "      <td>2020</td>\n",
       "    </tr>\n",
       "    <tr>\n",
       "      <th>2</th>\n",
       "      <td>University of Cambridge</td>\n",
       "      <td>3</td>\n",
       "      <td>1</td>\n",
       "      <td>2020</td>\n",
       "    </tr>\n",
       "    <tr>\n",
       "      <th>3</th>\n",
       "      <td>Massachusetts Institute of Technology (MIT)</td>\n",
       "      <td>4</td>\n",
       "      <td>3</td>\n",
       "      <td>2020</td>\n",
       "    </tr>\n",
       "    <tr>\n",
       "      <th>4</th>\n",
       "      <td>University of California, Berkeley</td>\n",
       "      <td>5</td>\n",
       "      <td>4</td>\n",
       "      <td>2020</td>\n",
       "    </tr>\n",
       "    <tr>\n",
       "      <th>...</th>\n",
       "      <td>...</td>\n",
       "      <td>...</td>\n",
       "      <td>...</td>\n",
       "      <td>...</td>\n",
       "    </tr>\n",
       "    <tr>\n",
       "      <th>3495</th>\n",
       "      <td>Wake Forest University</td>\n",
       "      <td>401-500</td>\n",
       "      <td>120-137</td>\n",
       "      <td>2016</td>\n",
       "    </tr>\n",
       "    <tr>\n",
       "      <th>3496</th>\n",
       "      <td>Waseda University</td>\n",
       "      <td>401-500</td>\n",
       "      <td>13-16</td>\n",
       "      <td>2016</td>\n",
       "    </tr>\n",
       "    <tr>\n",
       "      <th>3497</th>\n",
       "      <td>Washington State University</td>\n",
       "      <td>401-500</td>\n",
       "      <td>120-137</td>\n",
       "      <td>2016</td>\n",
       "    </tr>\n",
       "    <tr>\n",
       "      <th>3498</th>\n",
       "      <td>West Virginia University</td>\n",
       "      <td>401-500</td>\n",
       "      <td>120-137</td>\n",
       "      <td>2016</td>\n",
       "    </tr>\n",
       "    <tr>\n",
       "      <th>3499</th>\n",
       "      <td>Wuhan University of Technology</td>\n",
       "      <td>401-500</td>\n",
       "      <td>32-41</td>\n",
       "      <td>2016</td>\n",
       "    </tr>\n",
       "  </tbody>\n",
       "</table>\n",
       "<p>3500 rows × 4 columns</p>\n",
       "</div>"
      ],
      "text/plain": [
       "                                     Institution* World Rank  \\\n",
       "0                              Harvard University          1   \n",
       "1                             Stanford University          2   \n",
       "2                         University of Cambridge          3   \n",
       "3     Massachusetts Institute of Technology (MIT)          4   \n",
       "4              University of California, Berkeley          5   \n",
       "...                                           ...        ...   \n",
       "3495                       Wake Forest University    401-500   \n",
       "3496                            Waseda University    401-500   \n",
       "3497                  Washington State University    401-500   \n",
       "3498                     West Virginia University    401-500   \n",
       "3499               Wuhan University of Technology    401-500   \n",
       "\n",
       "     National/Regional Rank  year  \n",
       "0                         1  2020  \n",
       "1                         2  2020  \n",
       "2                         1  2020  \n",
       "3                         3  2020  \n",
       "4                         4  2020  \n",
       "...                     ...   ...  \n",
       "3495                120-137  2016  \n",
       "3496                  13-16  2016  \n",
       "3497                120-137  2016  \n",
       "3498                120-137  2016  \n",
       "3499                  32-41  2016  \n",
       "\n",
       "[3500 rows x 4 columns]"
      ]
     },
     "execution_count": 6,
     "metadata": {},
     "output_type": "execute_result"
    }
   ],
   "source": [
    "rank = rank2020.append(rank2019)\n",
    "rank = rank.append(rank2018)\n",
    "rank = rank.append(rank2017)\n",
    "rank = rank.append(rank2016)\n",
    "rank = rank[['Institution*','World Rank','National/Regional Rank','year']]\n",
    "rank = rank.reset_index(drop=True)\n",
    "rank"
   ]
  },
  {
   "cell_type": "code",
   "execution_count": 9,
   "metadata": {},
   "outputs": [
    {
     "data": {
      "text/plain": [
       "0                                Harvard University\n",
       "1                               Stanford University\n",
       "2                           University of Cambridge\n",
       "3       Massachusetts Institute of Technology (MIT)\n",
       "4                University of California, Berkeley\n",
       "                           ...                     \n",
       "1106                   Toulouse School of Economics\n",
       "1107                           University of Quebec\n",
       "1108               University of Technology, Sydney\n",
       "1109          National Cheng Kung University (NCKU)\n",
       "1110                      Paris Sorbonne University\n",
       "Name: Institution*, Length: 1111, dtype: object"
      ]
     },
     "execution_count": 9,
     "metadata": {},
     "output_type": "execute_result"
    }
   ],
   "source": [
    "unique_u = rank.drop_duplicates(subset = 'Institution*', ignore_index=True)\n",
    "unique_u = unique_u['Institution*']\n",
    "unique_u"
   ]
  },
  {
   "cell_type": "code",
   "execution_count": 10,
   "metadata": {},
   "outputs": [
    {
     "ename": "ImportError",
     "evalue": "cannot import name 'password' from 'secrets' (C:\\Users\\luisf\\anaconda3\\lib\\secrets.py)",
     "output_type": "error",
     "traceback": [
      "\u001b[1;31m---------------------------------------------------------------------------\u001b[0m",
      "\u001b[1;31mImportError\u001b[0m                               Traceback (most recent call last)",
      "\u001b[1;32m<ipython-input-10-a584664351b2>\u001b[0m in \u001b[0;36m<module>\u001b[1;34m\u001b[0m\n\u001b[1;32m----> 1\u001b[1;33m \u001b[1;32mfrom\u001b[0m \u001b[0msecrets\u001b[0m \u001b[1;32mimport\u001b[0m \u001b[0mpassword\u001b[0m\u001b[1;33m\u001b[0m\u001b[1;33m\u001b[0m\u001b[0m\n\u001b[0m",
      "\u001b[1;31mImportError\u001b[0m: cannot import name 'password' from 'secrets' (C:\\Users\\luisf\\anaconda3\\lib\\secrets.py)"
     ]
    }
   ],
   "source": []
  },
  {
   "cell_type": "code",
   "execution_count": null,
   "metadata": {},
   "outputs": [],
   "source": [
    "# Connect to local database\n",
    "# Pior: Create a python file called info in your local repo with user, password and database name.\n",
    "\n",
    "# from secrets import user, password, database\n",
    "rds_connection_string = f'{username}:{password}@localhost:5432/UT_Presentation'\n",
    "engine = create_engine(f'postgresql://{rds_connection_string}')"
   ]
  },
  {
   "cell_type": "code",
   "execution_count": null,
   "metadata": {},
   "outputs": [],
   "source": [
    "rank = pd.DataFrame()\n",
    "rank['Institution'] = rank2020['Institution*']\n",
    "rank['wrank_2020'] = rank2020['World Rank']\n",
    "rank"
   ]
  },
  {
   "cell_type": "code",
   "execution_count": null,
   "metadata": {},
   "outputs": [],
   "source": [
    "rank = pd.merge(rank,rank2019, how = 'outer', left_on = 'Institution', right_on = 'Institution*')\n",
    "# rank['wrank2011'] = rank['World Rank']\n",
    "rank "
   ]
  },
  {
   "cell_type": "code",
   "execution_count": null,
   "metadata": {},
   "outputs": [],
   "source": [
    "rank['wrank2019'] = rank['World Rank']\n",
    "rank"
   ]
  },
  {
   "cell_type": "code",
   "execution_count": null,
   "metadata": {},
   "outputs": [],
   "source": [
    "rank = pd.merge(rank,rank2018, how = 'outer', left_on = 'Institution', right_on = 'Institution*')\n",
    "# rank['wrank2011'] = rank['World Rank']\n",
    "rank['wrank2018'] = rank['World Rank_y']\n",
    "rank"
   ]
  },
  {
   "cell_type": "code",
   "execution_count": null,
   "metadata": {},
   "outputs": [],
   "source": [
    "rank = rank[['Institution', 'wrank_2020', 'wrank2019','wrank2018' ]]\n",
    "rank"
   ]
  },
  {
   "cell_type": "code",
   "execution_count": null,
   "metadata": {},
   "outputs": [],
   "source": []
  }
 ],
 "metadata": {
  "kernelspec": {
   "display_name": "Python 3",
   "language": "python",
   "name": "python3"
  },
  "language_info": {
   "codemirror_mode": {
    "name": "ipython",
    "version": 3
   },
   "file_extension": ".py",
   "mimetype": "text/x-python",
   "name": "python",
   "nbconvert_exporter": "python",
   "pygments_lexer": "ipython3",
   "version": "3.8.3"
  }
 },
 "nbformat": 4,
 "nbformat_minor": 4
}
